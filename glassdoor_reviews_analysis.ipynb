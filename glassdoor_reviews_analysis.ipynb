{
 "cells": [
  {
   "cell_type": "code",
   "execution_count": 34,
   "metadata": {},
   "outputs": [],
   "source": [
    "import pandas as pd\n",
    "import matplotlib.pyplot as plt"
   ]
  },
  {
   "cell_type": "code",
   "execution_count": 3,
   "metadata": {},
   "outputs": [],
   "source": [
    "data = pd.read_csv('./glassdoor_companies/glassdoor_companies_reviews.csv')"
   ]
  },
  {
   "cell_type": "code",
   "execution_count": 4,
   "metadata": {},
   "outputs": [
    {
     "data": {
      "text/html": [
       "<div>\n",
       "<style scoped>\n",
       "    .dataframe tbody tr th:only-of-type {\n",
       "        vertical-align: middle;\n",
       "    }\n",
       "\n",
       "    .dataframe tbody tr th {\n",
       "        vertical-align: top;\n",
       "    }\n",
       "\n",
       "    .dataframe thead th {\n",
       "        text-align: right;\n",
       "    }\n",
       "</style>\n",
       "<table border=\"1\" class=\"dataframe\">\n",
       "  <thead>\n",
       "    <tr style=\"text-align: right;\">\n",
       "      <th></th>\n",
       "      <th>Accidental_Death_Dismemberment_Insurance</th>\n",
       "      <th>Author_Location</th>\n",
       "      <th>Bereavement_Leave</th>\n",
       "      <th>CName</th>\n",
       "      <th>Charitable_Gift_Matching</th>\n",
       "      <th>Commuter_Checks_Assistance</th>\n",
       "      <th>Company_Social_Events</th>\n",
       "      <th>Competitors</th>\n",
       "      <th>Dental_Insurance</th>\n",
       "      <th>Dependent_Care</th>\n",
       "      <th>...</th>\n",
       "      <th>Stock_Options</th>\n",
       "      <th>Supplemental_Life_Insurance</th>\n",
       "      <th>Supplemental_Workers_Compensation</th>\n",
       "      <th>Travel_Concierge</th>\n",
       "      <th>Tuition_Assistance</th>\n",
       "      <th>Unpaid_Extended_Leave</th>\n",
       "      <th>Vacation_Paid_Time_Off</th>\n",
       "      <th>Vision_Insurance</th>\n",
       "      <th>Volunteer_Time_Off</th>\n",
       "      <th>Work_From_Home</th>\n",
       "    </tr>\n",
       "  </thead>\n",
       "  <tbody>\n",
       "    <tr>\n",
       "      <td>0</td>\n",
       "      <td>73 of 99 (73.74%)</td>\n",
       "      <td>Springfield, IL</td>\n",
       "      <td>76 of 99 (76.77%)</td>\n",
       "      <td>Office Depot</td>\n",
       "      <td>26 of 98 (26.53%)</td>\n",
       "      <td>11 of 98 (11.22%)</td>\n",
       "      <td>36 of 100 (36%)</td>\n",
       "      <td>Staples, Amazon</td>\n",
       "      <td>81 of 100 (81%)</td>\n",
       "      <td>20 of 99 (20.2%)</td>\n",
       "      <td>...</td>\n",
       "      <td>32 of 99 (32.32%)</td>\n",
       "      <td>73 of 99 (73.74%)</td>\n",
       "      <td>54 of 99 (54.55%)</td>\n",
       "      <td>19 of 97 (19.59%)</td>\n",
       "      <td>60 of 99 (60.61%)</td>\n",
       "      <td>57 of 99 (57.58%)</td>\n",
       "      <td>423 of 477 (88.68%)</td>\n",
       "      <td>75 of 99 (75.76%)</td>\n",
       "      <td>24 of 98 (24.49%)</td>\n",
       "      <td>20 of 100 (20%)</td>\n",
       "    </tr>\n",
       "    <tr>\n",
       "      <td>1</td>\n",
       "      <td>73 of 99 (73.74%)</td>\n",
       "      <td>Austin, TX</td>\n",
       "      <td>76 of 99 (76.77%)</td>\n",
       "      <td>Office Depot</td>\n",
       "      <td>26 of 98 (26.53%)</td>\n",
       "      <td>11 of 98 (11.22%)</td>\n",
       "      <td>36 of 100 (36%)</td>\n",
       "      <td>Staples, Amazon</td>\n",
       "      <td>81 of 100 (81%)</td>\n",
       "      <td>20 of 99 (20.2%)</td>\n",
       "      <td>...</td>\n",
       "      <td>32 of 99 (32.32%)</td>\n",
       "      <td>73 of 99 (73.74%)</td>\n",
       "      <td>54 of 99 (54.55%)</td>\n",
       "      <td>19 of 97 (19.59%)</td>\n",
       "      <td>60 of 99 (60.61%)</td>\n",
       "      <td>57 of 99 (57.58%)</td>\n",
       "      <td>423 of 477 (88.68%)</td>\n",
       "      <td>75 of 99 (75.76%)</td>\n",
       "      <td>24 of 98 (24.49%)</td>\n",
       "      <td>20 of 100 (20%)</td>\n",
       "    </tr>\n",
       "    <tr>\n",
       "      <td>2</td>\n",
       "      <td>73 of 99 (73.74%)</td>\n",
       "      <td>NaN</td>\n",
       "      <td>76 of 99 (76.77%)</td>\n",
       "      <td>Office Depot</td>\n",
       "      <td>26 of 98 (26.53%)</td>\n",
       "      <td>11 of 98 (11.22%)</td>\n",
       "      <td>36 of 100 (36%)</td>\n",
       "      <td>Staples, Amazon</td>\n",
       "      <td>81 of 100 (81%)</td>\n",
       "      <td>20 of 99 (20.2%)</td>\n",
       "      <td>...</td>\n",
       "      <td>32 of 99 (32.32%)</td>\n",
       "      <td>73 of 99 (73.74%)</td>\n",
       "      <td>54 of 99 (54.55%)</td>\n",
       "      <td>19 of 97 (19.59%)</td>\n",
       "      <td>60 of 99 (60.61%)</td>\n",
       "      <td>57 of 99 (57.58%)</td>\n",
       "      <td>423 of 477 (88.68%)</td>\n",
       "      <td>75 of 99 (75.76%)</td>\n",
       "      <td>24 of 98 (24.49%)</td>\n",
       "      <td>20 of 100 (20%)</td>\n",
       "    </tr>\n",
       "    <tr>\n",
       "      <td>3</td>\n",
       "      <td>73 of 99 (73.74%)</td>\n",
       "      <td>Atlanta, GA</td>\n",
       "      <td>76 of 99 (76.77%)</td>\n",
       "      <td>Office Depot</td>\n",
       "      <td>26 of 98 (26.53%)</td>\n",
       "      <td>11 of 98 (11.22%)</td>\n",
       "      <td>36 of 100 (36%)</td>\n",
       "      <td>Staples, Amazon</td>\n",
       "      <td>81 of 100 (81%)</td>\n",
       "      <td>20 of 99 (20.2%)</td>\n",
       "      <td>...</td>\n",
       "      <td>32 of 99 (32.32%)</td>\n",
       "      <td>73 of 99 (73.74%)</td>\n",
       "      <td>54 of 99 (54.55%)</td>\n",
       "      <td>19 of 97 (19.59%)</td>\n",
       "      <td>60 of 99 (60.61%)</td>\n",
       "      <td>57 of 99 (57.58%)</td>\n",
       "      <td>423 of 477 (88.68%)</td>\n",
       "      <td>75 of 99 (75.76%)</td>\n",
       "      <td>24 of 98 (24.49%)</td>\n",
       "      <td>20 of 100 (20%)</td>\n",
       "    </tr>\n",
       "    <tr>\n",
       "      <td>4</td>\n",
       "      <td>73 of 99 (73.74%)</td>\n",
       "      <td>NaN</td>\n",
       "      <td>76 of 99 (76.77%)</td>\n",
       "      <td>Office Depot</td>\n",
       "      <td>26 of 98 (26.53%)</td>\n",
       "      <td>11 of 98 (11.22%)</td>\n",
       "      <td>36 of 100 (36%)</td>\n",
       "      <td>Staples, Amazon</td>\n",
       "      <td>81 of 100 (81%)</td>\n",
       "      <td>20 of 99 (20.2%)</td>\n",
       "      <td>...</td>\n",
       "      <td>32 of 99 (32.32%)</td>\n",
       "      <td>73 of 99 (73.74%)</td>\n",
       "      <td>54 of 99 (54.55%)</td>\n",
       "      <td>19 of 97 (19.59%)</td>\n",
       "      <td>60 of 99 (60.61%)</td>\n",
       "      <td>57 of 99 (57.58%)</td>\n",
       "      <td>423 of 477 (88.68%)</td>\n",
       "      <td>75 of 99 (75.76%)</td>\n",
       "      <td>24 of 98 (24.49%)</td>\n",
       "      <td>20 of 100 (20%)</td>\n",
       "    </tr>\n",
       "  </tbody>\n",
       "</table>\n",
       "<p>5 rows × 61 columns</p>\n",
       "</div>"
      ],
      "text/plain": [
       "  Accidental_Death_Dismemberment_Insurance  Author_Location  \\\n",
       "0                        73 of 99 (73.74%)  Springfield, IL   \n",
       "1                        73 of 99 (73.74%)       Austin, TX   \n",
       "2                        73 of 99 (73.74%)              NaN   \n",
       "3                        73 of 99 (73.74%)      Atlanta, GA   \n",
       "4                        73 of 99 (73.74%)              NaN   \n",
       "\n",
       "   Bereavement_Leave          CName Charitable_Gift_Matching  \\\n",
       "0  76 of 99 (76.77%)   Office Depot        26 of 98 (26.53%)   \n",
       "1  76 of 99 (76.77%)   Office Depot        26 of 98 (26.53%)   \n",
       "2  76 of 99 (76.77%)   Office Depot        26 of 98 (26.53%)   \n",
       "3  76 of 99 (76.77%)   Office Depot        26 of 98 (26.53%)   \n",
       "4  76 of 99 (76.77%)   Office Depot        26 of 98 (26.53%)   \n",
       "\n",
       "  Commuter_Checks_Assistance Company_Social_Events       Competitors  \\\n",
       "0          11 of 98 (11.22%)       36 of 100 (36%)   Staples, Amazon   \n",
       "1          11 of 98 (11.22%)       36 of 100 (36%)   Staples, Amazon   \n",
       "2          11 of 98 (11.22%)       36 of 100 (36%)   Staples, Amazon   \n",
       "3          11 of 98 (11.22%)       36 of 100 (36%)   Staples, Amazon   \n",
       "4          11 of 98 (11.22%)       36 of 100 (36%)   Staples, Amazon   \n",
       "\n",
       "  Dental_Insurance    Dependent_Care  ...      Stock_Options  \\\n",
       "0  81 of 100 (81%)  20 of 99 (20.2%)  ...  32 of 99 (32.32%)   \n",
       "1  81 of 100 (81%)  20 of 99 (20.2%)  ...  32 of 99 (32.32%)   \n",
       "2  81 of 100 (81%)  20 of 99 (20.2%)  ...  32 of 99 (32.32%)   \n",
       "3  81 of 100 (81%)  20 of 99 (20.2%)  ...  32 of 99 (32.32%)   \n",
       "4  81 of 100 (81%)  20 of 99 (20.2%)  ...  32 of 99 (32.32%)   \n",
       "\n",
       "  Supplemental_Life_Insurance Supplemental_Workers_Compensation  \\\n",
       "0           73 of 99 (73.74%)                 54 of 99 (54.55%)   \n",
       "1           73 of 99 (73.74%)                 54 of 99 (54.55%)   \n",
       "2           73 of 99 (73.74%)                 54 of 99 (54.55%)   \n",
       "3           73 of 99 (73.74%)                 54 of 99 (54.55%)   \n",
       "4           73 of 99 (73.74%)                 54 of 99 (54.55%)   \n",
       "\n",
       "    Travel_Concierge Tuition_Assistance Unpaid_Extended_Leave  \\\n",
       "0  19 of 97 (19.59%)  60 of 99 (60.61%)     57 of 99 (57.58%)   \n",
       "1  19 of 97 (19.59%)  60 of 99 (60.61%)     57 of 99 (57.58%)   \n",
       "2  19 of 97 (19.59%)  60 of 99 (60.61%)     57 of 99 (57.58%)   \n",
       "3  19 of 97 (19.59%)  60 of 99 (60.61%)     57 of 99 (57.58%)   \n",
       "4  19 of 97 (19.59%)  60 of 99 (60.61%)     57 of 99 (57.58%)   \n",
       "\n",
       "  Vacation_Paid_Time_Off   Vision_Insurance Volunteer_Time_Off  \\\n",
       "0    423 of 477 (88.68%)  75 of 99 (75.76%)  24 of 98 (24.49%)   \n",
       "1    423 of 477 (88.68%)  75 of 99 (75.76%)  24 of 98 (24.49%)   \n",
       "2    423 of 477 (88.68%)  75 of 99 (75.76%)  24 of 98 (24.49%)   \n",
       "3    423 of 477 (88.68%)  75 of 99 (75.76%)  24 of 98 (24.49%)   \n",
       "4    423 of 477 (88.68%)  75 of 99 (75.76%)  24 of 98 (24.49%)   \n",
       "\n",
       "    Work_From_Home  \n",
       "0  20 of 100 (20%)  \n",
       "1  20 of 100 (20%)  \n",
       "2  20 of 100 (20%)  \n",
       "3  20 of 100 (20%)  \n",
       "4  20 of 100 (20%)  \n",
       "\n",
       "[5 rows x 61 columns]"
      ]
     },
     "execution_count": 4,
     "metadata": {},
     "output_type": "execute_result"
    }
   ],
   "source": [
    "data.head()"
   ]
  },
  {
   "cell_type": "code",
   "execution_count": 45,
   "metadata": {},
   "outputs": [
    {
     "data": {
      "text/plain": [
       " The Home Depot            479\n",
       " Fidelity Investments      479\n",
       " Accenture                 479\n",
       " Walt Disney Company       479\n",
       " UPS                       479\n",
       " YMCA                      479\n",
       " Enterprise                479\n",
       " US Army                   479\n",
       " Morgan Stanley            478\n",
       " AT&T                      478\n",
       " Insight Global            470\n",
       " HSBC Holdings             470\n",
       " Victoria's Secret         470\n",
       " Publix                    460\n",
       " Patni Computer Systems    350\n",
       "Name: CName, dtype: int64"
      ]
     },
     "execution_count": 45,
     "metadata": {},
     "output_type": "execute_result"
    }
   ],
   "source": [
    "data['CName'].value_counts()[data['CName'].value_counts() < 480]"
   ]
  },
  {
   "cell_type": "code",
   "execution_count": 38,
   "metadata": {},
   "outputs": [
    {
     "data": {
      "text/plain": [
       "['Accidental_Death_Dismemberment_Insurance',\n",
       " 'Author_Location',\n",
       " 'Bereavement_Leave',\n",
       " 'CName',\n",
       " 'Charitable_Gift_Matching',\n",
       " 'Commuter_Checks_Assistance',\n",
       " 'Company_Social_Events',\n",
       " 'Competitors',\n",
       " 'Dental_Insurance',\n",
       " 'Dependent_Care',\n",
       " 'Disability_Insurance',\n",
       " 'Diversity_Program',\n",
       " 'Employee_Assistance_Program',\n",
       " 'Employee_Discount',\n",
       " 'Employee_Stock_Purchase_Plan',\n",
       " 'Equity_Incentive_Plan',\n",
       " 'Family_Medical_Leave',\n",
       " 'Flexible_Spending_Account',\n",
       " 'Former_Current',\n",
       " 'Free_Lunch_or_Snacks',\n",
       " 'Gym_Membership',\n",
       " 'Health_Care_On_Site',\n",
       " 'Health_Insurance',\n",
       " 'Health_Savings_Account',\n",
       " 'Industry',\n",
       " 'Job_Training',\n",
       " 'K401_Plan',\n",
       " 'Legal_Assistance',\n",
       " 'Life_Insurance',\n",
       " 'Maternity_Paternity_Leave',\n",
       " 'Mental_Health_Care',\n",
       " 'Military_Leave',\n",
       " 'Mobile_Phone_Discount',\n",
       " 'Occupational_Accident_Insurance',\n",
       " 'Paid_Holidays',\n",
       " 'Pension_Plan',\n",
       " 'Performance_Bonus',\n",
       " 'Pet_Friendly_Workplace',\n",
       " 'Position',\n",
       " 'Professional_Development',\n",
       " 'RCareer_opportunities',\n",
       " 'RCompens_benef',\n",
       " 'RCulture_values',\n",
       " 'ROverall',\n",
       " 'RSenior_manag',\n",
       " 'RWork_life',\n",
       " 'Reduced_or_Flexible_Hours',\n",
       " 'Retiree_Health_Medical',\n",
       " 'Retirement_Plan',\n",
       " 'Revenue',\n",
       " 'Sick_Days',\n",
       " 'Stock_Options',\n",
       " 'Supplemental_Life_Insurance',\n",
       " 'Supplemental_Workers_Compensation',\n",
       " 'Travel_Concierge',\n",
       " 'Tuition_Assistance',\n",
       " 'Unpaid_Extended_Leave',\n",
       " 'Vacation_Paid_Time_Off',\n",
       " 'Vision_Insurance',\n",
       " 'Volunteer_Time_Off',\n",
       " 'Work_From_Home']"
      ]
     },
     "execution_count": 38,
     "metadata": {},
     "output_type": "execute_result"
    }
   ],
   "source": [
    "data.columns.tolist()"
   ]
  },
  {
   "cell_type": "code",
   "execution_count": 140,
   "metadata": {},
   "outputs": [],
   "source": [
    "data2 = data.copy()"
   ]
  },
  {
   "cell_type": "code",
   "execution_count": 173,
   "metadata": {},
   "outputs": [
    {
     "name": "stdout",
     "output_type": "stream",
     "text": [
      "CName\n",
      " ADP      3.452026\n",
      " AECOM    3.053533\n",
      " AIG      3.047619\n",
      " ALDI     3.327511\n",
      " AT&T     3.443255\n",
      "            ...   \n",
      " Xerox    2.676533\n",
      " YMCA     3.866228\n",
      " Yahoo    3.825532\n",
      " Yelp     3.192308\n",
      " eBay     3.607676\n",
      "Name: ROverall, Length: 199, dtype: float64\n"
     ]
    },
    {
     "data": {
      "text/plain": [
       "(array([ 1.,  5., 13., 19., 34., 45., 33., 26., 15.,  8.]),\n",
       " array([2.34334764, 2.550996  , 2.75864436, 2.96629271, 3.17394107,\n",
       "        3.38158943, 3.58923779, 3.79688615, 4.00453451, 4.21218287,\n",
       "        4.41983122]),\n",
       " <a list of 10 Patch objects>)"
      ]
     },
     "execution_count": 173,
     "metadata": {},
     "output_type": "execute_result"
    },
    {
     "data": {
      "image/png": "[encoded data removed]",
      "text/plain": [
       "<Figure size 432x288 with 1 Axes>"
      ]
     },
     "metadata": {
      "needs_background": "light"
     },
     "output_type": "display_data"
    }
   ],
   "source": [
    "data2['Health_Insurance'] = list(map(lambda d : float(d.split('(')[1][:-2]), data['Health_Insurance']))\n",
    "\n",
    "x = data2.groupby(by='CName')['Health_Insurance']\n",
    "\n",
    "# y = data.groupby(by='CName')['ROverall'].mean()\n",
    "\n",
    "print(y)\n",
    "\n",
    "plt.hist(data.groupby(by='CName')['ROverall'].mean())"
   ]
  },
  {
   "cell_type": "code",
   "execution_count": 196,
   "metadata": {},
   "outputs": [
    {
     "data": {
      "text/plain": [
       "Revenue\n",
       " $1 to $2 billion (USD) per year              1\n",
       " $10+ billion (USD) per year                  1\n",
       " $100 to $500 million (USD) per year          1\n",
       " $2 to $5 billion (USD) per year              1\n",
       " $25 to $50 million (USD) per year            1\n",
       " $5 to $10 billion (USD) per year             1\n",
       " $50 to $100 million (USD) per year           1\n",
       " $500 million to $1 billion (USD) per year    1\n",
       " Banks & Credit Unions                        1\n",
       " Beauty & Personal Accessories Stores         1\n",
       " Computer Hardware & Software                 1\n",
       " Department, Clothing, & Shoe Stores          1\n",
       " Fast-Food & Quick-Service Restaurants        1\n",
       " General Merchandise & Superstores            1\n",
       " Grocery Stores & Supermarkets                1\n",
       " IT Services                                  1\n",
       " Internet                                     1\n",
       " Staffing & Outsourcing                       1\n",
       " Unknown / Non-Applicable                     1\n",
       " Unknown / Non-Applicable per year            1\n",
       "Name: Revenue, dtype: int64"
      ]
     },
     "execution_count": 196,
     "metadata": {},
     "output_type": "execute_result"
    }
   ],
   "source": [
    "Industry = data2.groupby('Revenue')['Revenue'].nunique()\n",
    "# for i in Industry:\n",
    "#     print(i)\n",
    "Industry"
   ]
  },
  {
   "cell_type": "code",
   "execution_count": 184,
   "metadata": {},
   "outputs": [
    {
     "data": {
      "text/plain": [
       "0        85.50\n",
       "1        85.50\n",
       "2        85.50\n",
       "3        85.50\n",
       "4        85.50\n",
       "         ...  \n",
       "95323    85.95\n",
       "95324    85.95\n",
       "95325    85.95\n",
       "95326    85.95\n",
       "95327    85.95\n",
       "Name: Health_Insurance, Length: 95328, dtype: float64"
      ]
     },
     "execution_count": 184,
     "metadata": {},
     "output_type": "execute_result"
    }
   ],
   "source": [
    "data2['Health_Insurance']"
   ]
  },
  {
   "cell_type": "code",
   "execution_count": 125,
   "metadata": {},
   "outputs": [],
   "source": [
    "from sklearn import linear_model"
   ]
  },
  {
   "cell_type": "code",
   "execution_count": null,
   "metadata": {},
   "outputs": [],
   "source": []
  }
 ],
 "metadata": {
  "kernelspec": {
   "display_name": "Python 3",
   "language": "python",
   "name": "python3"
  },
  "language_info": {
   "codemirror_mode": {
    "name": "ipython",
    "version": 3
   },
   "file_extension": ".py",
   "mimetype": "text/x-python",
   "name": "python",
   "nbconvert_exporter": "python",
   "pygments_lexer": "ipython3",
   "version": "3.7.4"
  }
 },
 "nbformat": 4,
 "nbformat_minor": 4
}
